{
  "nbformat": 4,
  "nbformat_minor": 0,
  "metadata": {
    "colab": {
      "provenance": []
    },
    "kernelspec": {
      "name": "python3",
      "display_name": "Python 3"
    },
    "language_info": {
      "name": "python"
    }
  },
  "cells": [
    {
      "cell_type": "markdown",
      "source": [
        "## Introduction\n",
        "This notebook demonstrates the process of building a text classification model using various machine learning algorithms. The goal is to predict 'Cluster' based on 'Response' texts from a dataset. The approach includes preprocessing, model selection, and optimization using grid search."
      ],
      "metadata": {
        "id": "1p8OGhAC1DLT"
      }
    },
    {
      "cell_type": "markdown",
      "source": [
        "##2. Import Libraries"
      ],
      "metadata": {
        "id": "ltLkDglu1JOh"
      }
    },
    {
      "cell_type": "code",
      "source": [
        "import pandas as pd\n",
        "from sklearn.model_selection import GridSearchCV, train_test_split\n",
        "from sklearn.feature_extraction.text import CountVectorizer\n",
        "from sklearn.pipeline import Pipeline\n",
        "from sklearn.linear_model import LogisticRegression\n",
        "from sklearn.svm import SVC\n",
        "from sklearn.naive_bayes import MultinomialNB\n",
        "from sklearn.tree import DecisionTreeClassifier\n",
        "from joblib import dump"
      ],
      "metadata": {
        "id": "dmgFfogr1Jkk"
      },
      "execution_count": 1,
      "outputs": []
    },
    {
      "cell_type": "markdown",
      "source": [
        "## Load and Prepare Data\n",
        "Load the data from a JSON file, drop any missing values, and prepare it for model training by splitting into features and labels."
      ],
      "metadata": {
        "id": "-Cr8pYQe1Q-J"
      }
    },
    {
      "cell_type": "code",
      "source": [
        "data = pd.read_json('/content/updated_training_dataset.json')\n",
        "data.dropna(subset=['Response', 'Cluster'], inplace=True)\n",
        "data['Response'] = data['Response'].astype(str)\n",
        "\n",
        "X = data['Response']\n",
        "y = data['Cluster']"
      ],
      "metadata": {
        "id": "ageO-a9H1Szz"
      },
      "execution_count": 2,
      "outputs": []
    },
    {
      "cell_type": "markdown",
      "source": [
        "## Split the Dataset\n",
        "Divide the dataset into training and testing sets to prepare for model training and evaluation."
      ],
      "metadata": {
        "id": "mK_kzSNn1gJH"
      }
    },
    {
      "cell_type": "code",
      "source": [
        "X_train, X_test, y_train, y_test = train_test_split(X, y, test_size=0.25, random_state=0)"
      ],
      "metadata": {
        "id": "cTIEM14m1hNJ"
      },
      "execution_count": 3,
      "outputs": []
    },
    {
      "cell_type": "markdown",
      "source": [
        "## Setup Pipeline and GridSearchCV\n",
        "Configure a pipeline with a vectorizer and a placeholder for the classifier. Define a parameter grid for different classifiers and set up GridSearchCV to find the best model and parameters."
      ],
      "metadata": {
        "id": "02HP-9S01lYn"
      }
    },
    {
      "cell_type": "code",
      "source": [
        "pipeline = Pipeline([\n",
        "    ('vect', CountVectorizer()),\n",
        "    ('clf', LogisticRegression())  # Placeholder, will be replaced in grid search\n",
        "])\n",
        "\n",
        "param_grid = [\n",
        "    {'clf': [LogisticRegression()], 'clf__penalty': ['l2'], 'clf__C': [1, 10, 100],\n",
        "     'vect__max_features': [100, 500], 'vect__ngram_range': [(1, 1), (1, 2)]},\n",
        "    {'clf': [SVC()], 'clf__kernel': ['linear', 'rbf'], 'clf__C': [0.1, 1, 10],\n",
        "     'vect__max_features': [100, 500], 'vect__ngram_range': [(1, 1), (1, 2)]},\n",
        "    {'clf': [MultinomialNB()], 'clf__alpha': [0.1, 1.0, 10.0],\n",
        "     'vect__max_features': [100, 500], 'vect__ngram_range': [(1, 1), (1, 2)]},\n",
        "    {'clf': [DecisionTreeClassifier()], 'clf__max_depth': [None, 10, 20], 'clf__min_samples_split': [2, 5],\n",
        "     'vect__max_features': [100, 500], 'vect__ngram_range': [(1, 1), (1, 2)]}\n",
        "]\n",
        "\n",
        "grid_search = GridSearchCV(pipeline, param_grid, cv=5, verbose=2, n_jobs=-1)\n",
        "grid_search.fit(X_train, y_train)"
      ],
      "metadata": {
        "colab": {
          "base_uri": "https://localhost:8080/",
          "height": 170
        },
        "id": "we57Lfkt1qBd",
        "outputId": "400787c1-9b63-4bfd-f6bb-cd628e7a0e6a"
      },
      "execution_count": 4,
      "outputs": [
        {
          "output_type": "stream",
          "name": "stdout",
          "text": [
            "Fitting 5 folds for each of 72 candidates, totalling 360 fits\n"
          ]
        },
        {
          "output_type": "execute_result",
          "data": {
            "text/plain": [
              "GridSearchCV(cv=5,\n",
              "             estimator=Pipeline(steps=[('vect', CountVectorizer()),\n",
              "                                       ('clf', LogisticRegression())]),\n",
              "             n_jobs=-1,\n",
              "             param_grid=[{'clf': [LogisticRegression()], 'clf__C': [1, 10, 100],\n",
              "                          'clf__penalty': ['l2'],\n",
              "                          'vect__max_features': [100, 500],\n",
              "                          'vect__ngram_range': [(1, 1), (1, 2)]},\n",
              "                         {'clf': [SVC(C=1)], 'clf__C': [0.1, 1, 10],\n",
              "                          'clf__kernel': ['linear', 'rbf'],\n",
              "                          'vect__max_features': [100, 500],\n",
              "                          'vect__ngram_range': [(1, 1), (1, 2)]},\n",
              "                         {'clf': [MultinomialNB()],\n",
              "                          'clf__alpha': [0.1, 1.0, 10.0],\n",
              "                          'vect__max_features': [100, 500],\n",
              "                          'vect__ngram_range': [(1, 1), (1, 2)]},\n",
              "                         {'clf': [DecisionTreeClassifier()],\n",
              "                          'clf__max_depth': [None, 10, 20],\n",
              "                          'clf__min_samples_split': [2, 5],\n",
              "                          'vect__max_features': [100, 500],\n",
              "                          'vect__ngram_range': [(1, 1), (1, 2)]}],\n",
              "             verbose=2)"
            ],
            "text/html": [
              "<style>#sk-container-id-1 {color: black;background-color: white;}#sk-container-id-1 pre{padding: 0;}#sk-container-id-1 div.sk-toggleable {background-color: white;}#sk-container-id-1 label.sk-toggleable__label {cursor: pointer;display: block;width: 100%;margin-bottom: 0;padding: 0.3em;box-sizing: border-box;text-align: center;}#sk-container-id-1 label.sk-toggleable__label-arrow:before {content: \"▸\";float: left;margin-right: 0.25em;color: #696969;}#sk-container-id-1 label.sk-toggleable__label-arrow:hover:before {color: black;}#sk-container-id-1 div.sk-estimator:hover label.sk-toggleable__label-arrow:before {color: black;}#sk-container-id-1 div.sk-toggleable__content {max-height: 0;max-width: 0;overflow: hidden;text-align: left;background-color: #f0f8ff;}#sk-container-id-1 div.sk-toggleable__content pre {margin: 0.2em;color: black;border-radius: 0.25em;background-color: #f0f8ff;}#sk-container-id-1 input.sk-toggleable__control:checked~div.sk-toggleable__content {max-height: 200px;max-width: 100%;overflow: auto;}#sk-container-id-1 input.sk-toggleable__control:checked~label.sk-toggleable__label-arrow:before {content: \"▾\";}#sk-container-id-1 div.sk-estimator input.sk-toggleable__control:checked~label.sk-toggleable__label {background-color: #d4ebff;}#sk-container-id-1 div.sk-label input.sk-toggleable__control:checked~label.sk-toggleable__label {background-color: #d4ebff;}#sk-container-id-1 input.sk-hidden--visually {border: 0;clip: rect(1px 1px 1px 1px);clip: rect(1px, 1px, 1px, 1px);height: 1px;margin: -1px;overflow: hidden;padding: 0;position: absolute;width: 1px;}#sk-container-id-1 div.sk-estimator {font-family: monospace;background-color: #f0f8ff;border: 1px dotted black;border-radius: 0.25em;box-sizing: border-box;margin-bottom: 0.5em;}#sk-container-id-1 div.sk-estimator:hover {background-color: #d4ebff;}#sk-container-id-1 div.sk-parallel-item::after {content: \"\";width: 100%;border-bottom: 1px solid gray;flex-grow: 1;}#sk-container-id-1 div.sk-label:hover label.sk-toggleable__label {background-color: #d4ebff;}#sk-container-id-1 div.sk-serial::before {content: \"\";position: absolute;border-left: 1px solid gray;box-sizing: border-box;top: 0;bottom: 0;left: 50%;z-index: 0;}#sk-container-id-1 div.sk-serial {display: flex;flex-direction: column;align-items: center;background-color: white;padding-right: 0.2em;padding-left: 0.2em;position: relative;}#sk-container-id-1 div.sk-item {position: relative;z-index: 1;}#sk-container-id-1 div.sk-parallel {display: flex;align-items: stretch;justify-content: center;background-color: white;position: relative;}#sk-container-id-1 div.sk-item::before, #sk-container-id-1 div.sk-parallel-item::before {content: \"\";position: absolute;border-left: 1px solid gray;box-sizing: border-box;top: 0;bottom: 0;left: 50%;z-index: -1;}#sk-container-id-1 div.sk-parallel-item {display: flex;flex-direction: column;z-index: 1;position: relative;background-color: white;}#sk-container-id-1 div.sk-parallel-item:first-child::after {align-self: flex-end;width: 50%;}#sk-container-id-1 div.sk-parallel-item:last-child::after {align-self: flex-start;width: 50%;}#sk-container-id-1 div.sk-parallel-item:only-child::after {width: 0;}#sk-container-id-1 div.sk-dashed-wrapped {border: 1px dashed gray;margin: 0 0.4em 0.5em 0.4em;box-sizing: border-box;padding-bottom: 0.4em;background-color: white;}#sk-container-id-1 div.sk-label label {font-family: monospace;font-weight: bold;display: inline-block;line-height: 1.2em;}#sk-container-id-1 div.sk-label-container {text-align: center;}#sk-container-id-1 div.sk-container {/* jupyter's `normalize.less` sets `[hidden] { display: none; }` but bootstrap.min.css set `[hidden] { display: none !important; }` so we also need the `!important` here to be able to override the default hidden behavior on the sphinx rendered scikit-learn.org. See: https://github.com/scikit-learn/scikit-learn/issues/21755 */display: inline-block !important;position: relative;}#sk-container-id-1 div.sk-text-repr-fallback {display: none;}</style><div id=\"sk-container-id-1\" class=\"sk-top-container\"><div class=\"sk-text-repr-fallback\"><pre>GridSearchCV(cv=5,\n",
              "             estimator=Pipeline(steps=[(&#x27;vect&#x27;, CountVectorizer()),\n",
              "                                       (&#x27;clf&#x27;, LogisticRegression())]),\n",
              "             n_jobs=-1,\n",
              "             param_grid=[{&#x27;clf&#x27;: [LogisticRegression()], &#x27;clf__C&#x27;: [1, 10, 100],\n",
              "                          &#x27;clf__penalty&#x27;: [&#x27;l2&#x27;],\n",
              "                          &#x27;vect__max_features&#x27;: [100, 500],\n",
              "                          &#x27;vect__ngram_range&#x27;: [(1, 1), (1, 2)]},\n",
              "                         {&#x27;clf&#x27;: [SVC(C=1)], &#x27;clf__C&#x27;: [0.1, 1, 10],\n",
              "                          &#x27;clf__kernel&#x27;: [&#x27;linear&#x27;, &#x27;rbf&#x27;],\n",
              "                          &#x27;vect__max_features&#x27;: [100, 500],\n",
              "                          &#x27;vect__ngram_range&#x27;: [(1, 1), (1, 2)]},\n",
              "                         {&#x27;clf&#x27;: [MultinomialNB()],\n",
              "                          &#x27;clf__alpha&#x27;: [0.1, 1.0, 10.0],\n",
              "                          &#x27;vect__max_features&#x27;: [100, 500],\n",
              "                          &#x27;vect__ngram_range&#x27;: [(1, 1), (1, 2)]},\n",
              "                         {&#x27;clf&#x27;: [DecisionTreeClassifier()],\n",
              "                          &#x27;clf__max_depth&#x27;: [None, 10, 20],\n",
              "                          &#x27;clf__min_samples_split&#x27;: [2, 5],\n",
              "                          &#x27;vect__max_features&#x27;: [100, 500],\n",
              "                          &#x27;vect__ngram_range&#x27;: [(1, 1), (1, 2)]}],\n",
              "             verbose=2)</pre><b>In a Jupyter environment, please rerun this cell to show the HTML representation or trust the notebook. <br />On GitHub, the HTML representation is unable to render, please try loading this page with nbviewer.org.</b></div><div class=\"sk-container\" hidden><div class=\"sk-item sk-dashed-wrapped\"><div class=\"sk-label-container\"><div class=\"sk-label sk-toggleable\"><input class=\"sk-toggleable__control sk-hidden--visually\" id=\"sk-estimator-id-1\" type=\"checkbox\" ><label for=\"sk-estimator-id-1\" class=\"sk-toggleable__label sk-toggleable__label-arrow\">GridSearchCV</label><div class=\"sk-toggleable__content\"><pre>GridSearchCV(cv=5,\n",
              "             estimator=Pipeline(steps=[(&#x27;vect&#x27;, CountVectorizer()),\n",
              "                                       (&#x27;clf&#x27;, LogisticRegression())]),\n",
              "             n_jobs=-1,\n",
              "             param_grid=[{&#x27;clf&#x27;: [LogisticRegression()], &#x27;clf__C&#x27;: [1, 10, 100],\n",
              "                          &#x27;clf__penalty&#x27;: [&#x27;l2&#x27;],\n",
              "                          &#x27;vect__max_features&#x27;: [100, 500],\n",
              "                          &#x27;vect__ngram_range&#x27;: [(1, 1), (1, 2)]},\n",
              "                         {&#x27;clf&#x27;: [SVC(C=1)], &#x27;clf__C&#x27;: [0.1, 1, 10],\n",
              "                          &#x27;clf__kernel&#x27;: [&#x27;linear&#x27;, &#x27;rbf&#x27;],\n",
              "                          &#x27;vect__max_features&#x27;: [100, 500],\n",
              "                          &#x27;vect__ngram_range&#x27;: [(1, 1), (1, 2)]},\n",
              "                         {&#x27;clf&#x27;: [MultinomialNB()],\n",
              "                          &#x27;clf__alpha&#x27;: [0.1, 1.0, 10.0],\n",
              "                          &#x27;vect__max_features&#x27;: [100, 500],\n",
              "                          &#x27;vect__ngram_range&#x27;: [(1, 1), (1, 2)]},\n",
              "                         {&#x27;clf&#x27;: [DecisionTreeClassifier()],\n",
              "                          &#x27;clf__max_depth&#x27;: [None, 10, 20],\n",
              "                          &#x27;clf__min_samples_split&#x27;: [2, 5],\n",
              "                          &#x27;vect__max_features&#x27;: [100, 500],\n",
              "                          &#x27;vect__ngram_range&#x27;: [(1, 1), (1, 2)]}],\n",
              "             verbose=2)</pre></div></div></div><div class=\"sk-parallel\"><div class=\"sk-parallel-item\"><div class=\"sk-item\"><div class=\"sk-label-container\"><div class=\"sk-label sk-toggleable\"><input class=\"sk-toggleable__control sk-hidden--visually\" id=\"sk-estimator-id-2\" type=\"checkbox\" ><label for=\"sk-estimator-id-2\" class=\"sk-toggleable__label sk-toggleable__label-arrow\">estimator: Pipeline</label><div class=\"sk-toggleable__content\"><pre>Pipeline(steps=[(&#x27;vect&#x27;, CountVectorizer()), (&#x27;clf&#x27;, LogisticRegression())])</pre></div></div></div><div class=\"sk-serial\"><div class=\"sk-item\"><div class=\"sk-serial\"><div class=\"sk-item\"><div class=\"sk-estimator sk-toggleable\"><input class=\"sk-toggleable__control sk-hidden--visually\" id=\"sk-estimator-id-3\" type=\"checkbox\" ><label for=\"sk-estimator-id-3\" class=\"sk-toggleable__label sk-toggleable__label-arrow\">CountVectorizer</label><div class=\"sk-toggleable__content\"><pre>CountVectorizer()</pre></div></div></div><div class=\"sk-item\"><div class=\"sk-estimator sk-toggleable\"><input class=\"sk-toggleable__control sk-hidden--visually\" id=\"sk-estimator-id-4\" type=\"checkbox\" ><label for=\"sk-estimator-id-4\" class=\"sk-toggleable__label sk-toggleable__label-arrow\">LogisticRegression</label><div class=\"sk-toggleable__content\"><pre>LogisticRegression()</pre></div></div></div></div></div></div></div></div></div></div></div></div>"
            ]
          },
          "metadata": {},
          "execution_count": 4
        }
      ]
    },
    {
      "cell_type": "markdown",
      "source": [
        "## Model Evaluation\n",
        "Evaluate the best model found by GridSearchCV on the test set and display the best parameters and test set accuracy."
      ],
      "metadata": {
        "id": "bMw0Avsj12xE"
      }
    },
    {
      "cell_type": "code",
      "source": [
        "print(\"Best Parameters:\", grid_search.best_params_)\n",
        "print(\"Best Cross-validation Score: {:.3f}\".format(grid_search.best_score_))\n",
        "test_accuracy = grid_search.best_estimator_.score(X_test, y_test)\n",
        "print(\"Test Set Accuracy: {:.3f}\".format(test_accuracy))"
      ],
      "metadata": {
        "colab": {
          "base_uri": "https://localhost:8080/"
        },
        "id": "CGsIMQid13zb",
        "outputId": "1d5c8255-4ea4-4d4b-ce43-33cb5929d185"
      },
      "execution_count": 5,
      "outputs": [
        {
          "output_type": "stream",
          "name": "stdout",
          "text": [
            "Best Parameters: {'clf': SVC(C=1), 'clf__C': 1, 'clf__kernel': 'rbf', 'vect__max_features': 500, 'vect__ngram_range': (1, 1)}\n",
            "Best Cross-validation Score: 0.986\n",
            "Test Set Accuracy: 0.977\n"
          ]
        }
      ]
    },
    {
      "cell_type": "markdown",
      "source": [
        "## Save the Model\n",
        "Serialize the best-performing model to a joblib file for later use in predictions or further analysis."
      ],
      "metadata": {
        "id": "IKPztrEe184O"
      }
    },
    {
      "cell_type": "code",
      "source": [
        "dump(grid_search.best_estimator_, 'best_text_classifier.joblib')\n",
        "print(\"Model saved as 'best_text_classifier.joblib'\")"
      ],
      "metadata": {
        "colab": {
          "base_uri": "https://localhost:8080/"
        },
        "id": "Ym4gtiTw1_0x",
        "outputId": "2061e924-f816-4ab7-edb9-97eab2189b5e"
      },
      "execution_count": 6,
      "outputs": [
        {
          "output_type": "stream",
          "name": "stdout",
          "text": [
            "Model saved as 'best_text_classifier.joblib'\n"
          ]
        }
      ]
    }
  ]
}