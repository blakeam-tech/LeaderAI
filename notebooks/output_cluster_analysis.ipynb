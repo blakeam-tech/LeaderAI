{
  "nbformat": 4,
  "nbformat_minor": 0,
  "metadata": {
    "colab": {
      "provenance": []
    },
    "kernelspec": {
      "name": "python3",
      "display_name": "Python 3"
    },
    "language_info": {
      "name": "python"
    }
  },
  "cells": [
    {
      "cell_type": "markdown",
      "source": [
        "## Introduction\n",
        "This notebook outlines the steps for analyzing customer feedback with the aim of identifying key themes in unsatisfactory responses. We use NLP techniques such as TF-IDF vectorization for feature extraction and K-means clustering to group similar feedback together. This helps in understanding common issues reported by users and guiding improvements in customer service strategies."
      ],
      "metadata": {
        "id": "e6bA901xuZpi"
      }
    },
    {
      "cell_type": "markdown",
      "source": [
        "## Setup and Configuration\n",
        "Import all necessary libraries and download required NLTK resources to process the textual data. Ensure all dependencies are correctly installed in your Python environment before proceeding."
      ],
      "metadata": {
        "id": "3daEegMIuhJf"
      }
    },
    {
      "cell_type": "code",
      "execution_count": 8,
      "metadata": {
        "colab": {
          "base_uri": "https://localhost:8080/"
        },
        "id": "jg6Ing0vs053",
        "outputId": "db238836-a95b-4548-f6a3-196d0325b334"
      },
      "outputs": [
        {
          "output_type": "stream",
          "name": "stderr",
          "text": [
            "[nltk_data] Downloading package stopwords to /root/nltk_data...\n",
            "[nltk_data]   Package stopwords is already up-to-date!\n",
            "[nltk_data] Downloading package wordnet to /root/nltk_data...\n",
            "[nltk_data]   Package wordnet is already up-to-date!\n",
            "[nltk_data] Downloading package punkt to /root/nltk_data...\n",
            "[nltk_data]   Unzipping tokenizers/punkt.zip.\n"
          ]
        },
        {
          "output_type": "execute_result",
          "data": {
            "text/plain": [
              "True"
            ]
          },
          "metadata": {},
          "execution_count": 8
        }
      ],
      "source": [
        "import pandas as pd\n",
        "from sklearn.feature_extraction.text import TfidfVectorizer\n",
        "from sklearn.cluster import KMeans\n",
        "import nltk\n",
        "from nltk.stem import WordNetLemmatizer\n",
        "from nltk.corpus import stopwords\n",
        "import matplotlib.pyplot as plt\n",
        "import math\n",
        "\n",
        "# Download necessary NLTK resources\n",
        "nltk.download('stopwords')\n",
        "nltk.download('wordnet')\n",
        "nltk.download('punkt')"
      ]
    },
    {
      "cell_type": "markdown",
      "source": [
        "## Data Loading and Initial Exploration\n",
        "Load the dataset and inspect its structure to understand the available data and identify the relevant columns for analysis."
      ],
      "metadata": {
        "id": "fnCfh7MXurIv"
      }
    },
    {
      "cell_type": "code",
      "source": [
        "# Load dataset\n",
        "dataset = pd.read_csv('/content/CustomLeaderAIResponseTestOutput.csv')\n",
        "\n",
        "# Print column names to identify the correct ones\n",
        "print(\"Column names in dataset:\", dataset.columns.tolist())"
      ],
      "metadata": {
        "colab": {
          "base_uri": "https://localhost:8080/"
        },
        "id": "IPlkqI2Iuu9S",
        "outputId": "7a8f2eaf-d7ca-4746-fbc2-520498ac41d1"
      },
      "execution_count": 9,
      "outputs": [
        {
          "output_type": "stream",
          "name": "stdout",
          "text": [
            "Column names in dataset: ['Model Context', 'Response ', 'Response Score (1 to 10) 1 is poor and 10 is excellent', 'Additional Feedback']\n"
          ]
        }
      ]
    },
    {
      "cell_type": "markdown",
      "source": [
        "## Data Preprocessing\n",
        "Calculate the mean score to determine a cutoff for unsatisfactory responses. Also, preprocess the text data by tokenizing, removing stopwords, and applying lemmatization."
      ],
      "metadata": {
        "id": "MKfea528u3El"
      }
    },
    {
      "cell_type": "code",
      "source": [
        "dataset_mean = dataset['Response Score (1 to 10) 1 is poor and 10 is excellent'].mean()\n",
        "cutoff = math.ceil(dataset_mean)\n",
        "unsatisfactory_answers = dataset[dataset['Response Score (1 to 10) 1 is poor and 10 is excellent'] < cutoff]\n",
        "reasons = unsatisfactory_answers['Additional Feedback'].fillna(\"No feedback provided\")  # Handling NaN\n",
        "\n",
        "lemmatizer = WordNetLemmatizer()\n",
        "stop_words = set(stopwords.words('english'))\n",
        "\n",
        "def preprocess(text):\n",
        "    tokens = nltk.word_tokenize(text.lower())\n",
        "    lemmatized = [lemmatizer.lemmatize(token) for token in tokens if token.isalpha() and not token in stop_words]\n",
        "    return ' '.join(lemmatized)\n",
        "\n",
        "processed_reasons = reasons.apply(preprocess)"
      ],
      "metadata": {
        "id": "-N7VyG-4u6Np"
      },
      "execution_count": 12,
      "outputs": []
    },
    {
      "cell_type": "markdown",
      "source": [
        "## Feature Extraction and Clustering\n",
        "Extract features from the preprocessed text using TF-IDF vectorization and then apply K-means clustering to segment the data into meaningful groups."
      ],
      "metadata": {
        "id": "bJx6iex0vJOF"
      }
    },
    {
      "cell_type": "code",
      "source": [
        "vectorizer = TfidfVectorizer(max_features=100)\n",
        "X = vectorizer.fit_transform(processed_reasons)\n",
        "\n",
        "n_clusters = 2  # Adjust the number of clusters based on your data\n",
        "model = KMeans(n_clusters=n_clusters, random_state=42)\n",
        "model.fit(X)\n",
        "\n",
        "unsatisfactory_answers['Cluster'] = model.labels_\n",
        "\n",
        "satisfactory_answers = dataset[dataset['Response Score (1 to 10) 1 is poor and 10 is excellent'] >= cutoff]\n",
        "satisfactory_answers['Cluster'] = 2\n",
        "\n",
        "# Combine the datasets back together\n",
        "final_dataset = pd.concat([unsatisfactory_answers, satisfactory_answers], ignore_index=True)"
      ],
      "metadata": {
        "colab": {
          "base_uri": "https://localhost:8080/"
        },
        "id": "w7E3DdVZt4We",
        "outputId": "365ab04f-9b18-40f4-ba2a-e561b3aaa76c"
      },
      "execution_count": 13,
      "outputs": [
        {
          "output_type": "stream",
          "name": "stderr",
          "text": [
            "/usr/local/lib/python3.10/dist-packages/sklearn/cluster/_kmeans.py:870: FutureWarning: The default value of `n_init` will change from 10 to 'auto' in 1.4. Set the value of `n_init` explicitly to suppress the warning\n",
            "  warnings.warn(\n",
            "<ipython-input-13-a3aee1745c26>:8: SettingWithCopyWarning: \n",
            "A value is trying to be set on a copy of a slice from a DataFrame.\n",
            "Try using .loc[row_indexer,col_indexer] = value instead\n",
            "\n",
            "See the caveats in the documentation: https://pandas.pydata.org/pandas-docs/stable/user_guide/indexing.html#returning-a-view-versus-a-copy\n",
            "  unsatisfactory_answers['Cluster'] = model.labels_\n",
            "<ipython-input-13-a3aee1745c26>:11: SettingWithCopyWarning: \n",
            "A value is trying to be set on a copy of a slice from a DataFrame.\n",
            "Try using .loc[row_indexer,col_indexer] = value instead\n",
            "\n",
            "See the caveats in the documentation: https://pandas.pydata.org/pandas-docs/stable/user_guide/indexing.html#returning-a-view-versus-a-copy\n",
            "  satisfactory_answers['Cluster'] = 2\n"
          ]
        }
      ]
    },
    {
      "cell_type": "markdown",
      "source": [
        "## Visualization of Clusters\n",
        "Visualize the distribution of the data points among the clusters to analyze how well the feedback has been grouped and to identify any outliers."
      ],
      "metadata": {
        "id": "MmuKtxRmvZLq"
      }
    },
    {
      "cell_type": "code",
      "source": [
        "fig, ax = plt.subplots()\n",
        "scatter = ax.scatter(range(len(final_dataset)), [0]*len(final_dataset), c=final_dataset['Cluster'], cmap='viridis', alpha=0.6)\n",
        "legend1 = ax.legend(*scatter.legend_elements(), title=\"Clusters\")\n",
        "ax.add_artist(legend1)\n",
        "plt.xlabel('Data Points')\n",
        "plt.title('Cluster Distribution')\n",
        "plt.yticks([])\n",
        "plt.show()"
      ],
      "metadata": {
        "colab": {
          "base_uri": "https://localhost:8080/",
          "height": 472
        },
        "id": "MfT837ZVvbCG",
        "outputId": "b3b9079e-a9b9-457b-8684-ad47afb4358e"
      },
      "execution_count": 14,
      "outputs": [
        {
          "output_type": "display_data",
          "data": {
            "text/plain": [
              "<Figure size 640x480 with 1 Axes>"
            ],
            "image/png": "[encoded data removed]"
          },
          "metadata": {}
        }
      ]
    },
    {
      "cell_type": "markdown",
      "source": [
        "## Analysis of Clusters\n",
        "Print the top terms in each cluster to understand the themes within each group. Review the specific feedback categorized in each cluster to gain deeper insights."
      ],
      "metadata": {
        "id": "WFEYtuaTvhNN"
      }
    },
    {
      "cell_type": "code",
      "source": [
        "print(\"Top terms per cluster:\")\n",
        "order_centroids = model.cluster_centers_.argsort()[:, ::-1]\n",
        "terms = vectorizer.get_feature_names_out()\n",
        "for i in range(n_clusters):\n",
        "    top_terms = [terms[ind] for ind in order_centroids[i, :10]]\n",
        "    print(f\"Cluster {i}: {', '.join(top_terms)}\")\n",
        "\n",
        "for i in range(n_clusters):\n",
        "    print(f\"\\nCluster {i} reasons:\")\n",
        "    print(unsatisfactory_answers[unsatisfactory_answers['Cluster'] == i]['Additional Feedback'].tolist())"
      ],
      "metadata": {
        "colab": {
          "base_uri": "https://localhost:8080/"
        },
        "id": "kUbEJJ_svoA7",
        "outputId": "eb63141b-d475-4a5c-c46a-cba1e609945f"
      },
      "execution_count": 15,
      "outputs": [
        {
          "output_type": "stream",
          "name": "stdout",
          "text": [
            "Top terms per cluster:\n",
            "Cluster 0: xi, accurate, china, would, broad, response, statement, overall, sure, mention\n",
            "Cluster 1: context, similar, good, true, prompt, reiteration, issue, model, summarizes, summary\n",
            "\n",
            "Cluster 0 reasons:\n",
            "['broad', 'this answer is not in line with Chinese policy on N Korea or the West', 'China trades and sells \"dual use\" tech but no known mil hardware ', 'no mention of Australia and the context is about the future of communism ', 'good. not sure about short selling', 'accurate but broad - maybe due to parameters. if fit for parmenters a 10.', 'this is off - the meeting between Biden and Xi did not focus on China and Portugal and the policy for Macau. This is the largest deviation. With robust existing data on U.S. and China dialogue to guide it', 'it is a term widely used - no evidence of refrain - is this an example refrain being a common word that pushes the info in the wrong direction', 'not in Xi Jinping perspective - well   the model does fine but hard to grade', 'both drew out registering and CGTN but Xinhua did not. Likely the mixed response was on purpose given trade talks. ', 'I feel like the response was not novel but rather a regurgitation of the context. That is why I gave a 5 here as the response does not include the \"next action\" which was in the Model Context. It is accurate in terms of what Xi Jinping would say', 'Same issue as above but the statement here was too vague. Inaccurate? No. Vague? Most definitely. ', 'I understand that China has upheld many sanctions against North Korea but unsure about \"direct action\" like taking action against indibiduals engaged in circumventing sanctions. China officially asserts the upholding of the UN Security Council sanctions against the Kim regime but I am yet to come across any news that discuss actions against individuals. ', 'I don’t think Xi Jinping would do anything as escalatory as sending arms to Russia. Beijing does supply components and economic aid to Russia but I believe that arms exports/supply would be an escalation that Xi does not want to pursue, specially given economic troubles in the domestic economy.', \"Overall, the result was accurate and I believe to be in line with Xi would say. Perhaps, the only point of contention I would have is with the inclusion of the broad concept of Marxism -- perhaps a more narrow sub-strand like Maoist ideology or even Xi's own ideology could be an apt replacement. \", \"The statement does align with Xi's overall public statements over the years -- the importance of developing a strong and well-trained workfore in new frontiers of technology is centerpiece of his speeches. While he has emphasized the importance of Marxism-Leninism and Maoism in the domestic front, its export is not characteristic of him as China's leader. \", 'The Trilateral Cooperation Secretariat  was established in 2011 and meet every 2 years. The statement assumes that the Secretariat is yet to be established. ', 'Response summarizes the prompt and is not accurate in regard to what Xi would say (which would most probably either be denial of such accusations or something related to internal security)', 'I am not sure if Xi would even mention \"human rights\" in this context. ', 'Overall, accurate but not sure where Portugal came from in this conversation? XD', 'I think the response sounds more like a \"Shenzhen needs to do x and y\" rather than the prompt\\'s emphasis on it being a model city of Chinese socialism in the modern era. ', 'Overall, the result is accurate but I do not think Xi would ever mention \"political democracy\" as something he has achieved under his guidance. ', \"Statement largely summarizes the prompt but also adds new fields of cooperation in the BRI -- AI and big data. These are accurate given China's push in these fields in the last few years. \", 'Largely summarizes the prompt but also adds \"socialist legal system with Chinese characteristics\" as nuance -- which is accurate in my opinion as Xi seeks to promote nationalism for the domestic audience.', \"Statement is on brand with Xi's centralization efforts. Largely, the statement is a summary of the prompt. \", 'While overall accurate, Belarusian president Lukashenko visited China in 2023, not 2024. Other parts of the response seem on brand. ', \"It is true that China stalled any efforts by WHO to investigate the origins of COVID-19 in Wuhan, including pressure on the organization through financial means. However, I have not come across any news story about China pressing for the WHO team's swift exit -- were they welcome by Beijing? No. But they were also not pressed to leave as soon as possible. \", 'All of the themese mentioned such as \"respecting sovereignty, promoting peaceful coexistence, avoiding confrontation, and seeking common ground\" are all talking points used extensively by Xi. However, no 10 principlies to guide US-China relations exist. ', 'I am unsure about this one. While it would make senese for these two media groups to continue presence here in the US, it could potentially be a loss of \"face\" for Xi to do just that. I am erring on the side of \"not fully inaccurate\" here. ']\n",
            "\n",
            "Cluster 1 reasons:\n",
            "['similar to the context in the prompt. innovation less emphasized ', 'almost a context summary', 'good but similar to the context', 'the context may have summarized \"Xi Thought\" which is distnict in influencing Chinese behavior', 'good but similar to the context', 'good but similar to the context', 'good but similar to the context', 'good but restating the context', 'somewhat drawn from context', 'true but misses key context', 'true but derived from context', 'Again, same as above. The response just summarizes the Model Context. ', 'Same issue as statements 1 and 2. This is a reiteration of what is in the context prompt. ', 'Same issue as statements 1 and 2. This is a reiteration of what is in the context prompt. ', 'Similar to 1 and 2, the response heavily summarizes what is already said in the model context.']\n"
          ]
        }
      ]
    },
    {
      "cell_type": "markdown",
      "source": [
        "## Export Results\n",
        "Export the final dataset with cluster labels for further analysis or integration into customer service improvement strategies."
      ],
      "metadata": {
        "id": "DX750Yp9vu59"
      }
    },
    {
      "cell_type": "code",
      "source": [
        "final_dataset.to_csv('training_dataset.csv')"
      ],
      "metadata": {
        "id": "VT-VZ24Vvv_T"
      },
      "execution_count": 16,
      "outputs": []
    },
    {
      "cell_type": "markdown",
      "source": [
        "##Results\n",
        "\n",
        "###Cluster 0: Issues with Specificity and Relevance\n",
        "\n",
        "<ul>\n",
        "<li>Contextual Errors: Some responses contained factual inaccuracies or misrepresentations of current events or policies, particularly concerning China's geopolitical actions and stances.</li>\n",
        "<li>Irrelevance: Occasionally, responses included irrelevant information, such as mentioning countries or concepts not pertinent to the question, leading to confusion or perceived inaccuracy.</li>\n",
        "</ul>\n",
        "\n",
        "###Cluster 1: Problems with Response Depth and Novelty\n",
        "<ul>\n",
        "<li>Over-Summarization: Many responses merely rephrased or summarized the input without adding any new information or insight, leading to dissatisfaction with the lack of depth.</li>\n",
        "<li>Lack of Novelty: Responses often lacked original thought or interpretation, which was expected by users. Instead, the output mirrored the input too closely without providing additional value.\n",
        "</li>\n",
        "</ul>"
      ],
      "metadata": {
        "id": "HtYSUA75v0X-"
      }
    },
    {
      "cell_type": "code",
      "source": [],
      "metadata": {
        "id": "-kJg-ASbzxF6"
      },
      "execution_count": 16,
      "outputs": []
    }
  ]
}